{
 "cells": [
  {
   "cell_type": "code",
   "execution_count": 1,
   "metadata": {},
   "outputs": [
    {
     "name": "stderr",
     "output_type": "stream",
     "text": [
      "Using TensorFlow backend.\n"
     ]
    }
   ],
   "source": [
    "from __future__ import division\n",
    "import numpy as np\n",
    "import matplotlib.pyplot as plt\n",
    "from keras.layers import Convolution2D, MaxPooling2D, Dense, \\\n",
    "                         Dropout, Flatten, Input, Concatenate, \\\n",
    "                         Conv2DTranspose, ELU, Activation, ZeroPadding2D, \\\n",
    "                         Cropping2D\n",
    "from keras.layers.normalization import BatchNormalization\n",
    "from keras.models import Model\n",
    "from keras.models import Sequential, load_model\n",
    "from sklearn import preprocessing\n",
    "import time\n",
    "import scipy as sp"
   ]
  },
  {
   "cell_type": "code",
   "execution_count": 2,
   "metadata": {
    "collapsed": true
   },
   "outputs": [],
   "source": [
    "##### HELPERS #####\n",
    "def save_png(array, file_name='test'):\n",
    "    ''' save rgb numpy array to png '''\n",
    "    sp.misc.imsave('images/'+file_name+'.png', array)"
   ]
  },
  {
   "cell_type": "code",
   "execution_count": 3,
   "metadata": {},
   "outputs": [
    {
     "name": "stdout",
     "output_type": "stream",
     "text": [
      "(1015, 3, 64, 64, 3)\n"
     ]
    }
   ],
   "source": [
    "# load data\n",
    "data = np.rollaxis(np.load('data.npy'),2,5)\n",
    "data[:,:,:,:,[0,1,2]] = data[:,:,:,:,[2,1,0]]\n",
    "print data.shape"
   ]
  },
  {
   "cell_type": "code",
   "execution_count": 4,
   "metadata": {
    "collapsed": true
   },
   "outputs": [],
   "source": [
    "# split into training/test\n",
    "sample_range = range(data.shape[0])\n",
    "np.random.shuffle(sample_range)\n",
    "training_idx = sample_range[:int(data.shape[0]*0.8)]\n",
    "test_idx = sample_range[int(data.shape[0]*0.8):]\n",
    "X1_train = data[training_idx,0,:,:,:]\n",
    "X2_train = data[training_idx,1,:,:,:]\n",
    "y_train = data[training_idx,2,:,:,:]\n",
    "X1_test = data[test_idx,0,:,:,:]\n",
    "X2_test = data[test_idx,1,:,:,:]\n",
    "y_test = data[test_idx,2,:,:,:]"
   ]
  },
  {
   "cell_type": "code",
   "execution_count": 5,
   "metadata": {
    "collapsed": true
   },
   "outputs": [],
   "source": [
    "# build model\n",
    "input_a = Input(shape=(64,64,3)) #parent 1 input\n",
    "pad_1a = ZeroPadding2D(1)(input_a)\n",
    "conv_1a = Convolution2D(32, (4, 4), strides=2)(pad_1a)\n",
    "activ_1a = ELU()(conv_1a)\n",
    "norm_1a = BatchNormalization()(activ_1a)\n",
    "drop_1a = Dropout(0.1)(norm_1a)\n",
    "pad_2a = ZeroPadding2D(1)(drop_1a)\n",
    "conv_2a = Convolution2D(64, (4, 4), strides=2)(pad_2a)\n",
    "activ_2a = ELU()(conv_2a)\n",
    "norm_2a = BatchNormalization()(activ_2a)\n",
    "drop_2a = Dropout(0.1)(norm_2a)\n",
    "\n",
    "input_b = Input(shape=(64,64,3)) #parent 2 input\n",
    "pad_1b = ZeroPadding2D(1)(input_b)\n",
    "conv_1b = Convolution2D(32, (4, 4), strides=2)(pad_1b)\n",
    "activ_1b = ELU()(conv_1b)\n",
    "norm_1b = BatchNormalization()(activ_1b)\n",
    "drop_1b = Dropout(0.1)(norm_1b)\n",
    "pad_2b = ZeroPadding2D(1)(drop_1b)\n",
    "conv_2b = Convolution2D(64, (4, 4), strides=2)(pad_2b)\n",
    "activ_2b = ELU()(conv_2b)\n",
    "norm_2b = BatchNormalization()(activ_2b)\n",
    "drop_2b = Dropout(0.1)(norm_2b)\n",
    "\n",
    "input_z = Input(shape=(4,4,64)) #random input\n",
    "conv_1z = Conv2DTranspose(64, (4,4), strides=2, padding='same')(input_z)\n",
    "activ_1z = ELU()(conv_1z)\n",
    "norm_1z = BatchNormalization()(activ_1z)\n",
    "conv_2z = Conv2DTranspose(32, (4, 4), strides=2, padding='same')(norm_1z)\n",
    "activ_2z = ELU()(conv_2z)\n",
    "norm_2z = BatchNormalization()(activ_2z)\n",
    "\n",
    "concat_c = Concatenate()([drop_2a, drop_2b]) #concatenate parents and random input\n",
    "deconv_1c = Conv2DTranspose(32, (4,4), strides=2, padding='same')(concat_c)\n",
    "activ_1c = ELU()(deconv_1c)\n",
    "norm_1c = BatchNormalization()(activ_1c)\n",
    "deconv_2c = Conv2DTranspose(3, (4,4), strides=2, padding='same')(norm_1c)\n",
    "out = Activation('tanh')(deconv_2c)\n",
    "\n",
    "model = Model(inputs=[input_a, input_b], outputs=out)\n",
    "model.compile(loss='mean_squared_error', optimizer='adam')"
   ]
  },
  {
   "cell_type": "code",
   "execution_count": 6,
   "metadata": {},
   "outputs": [
    {
     "name": "stdout",
     "output_type": "stream",
     "text": [
      "__________________________________________________________________________________________________\n",
      "Layer (type)                    Output Shape         Param #     Connected to                     \n",
      "==================================================================================================\n",
      "input_1 (InputLayer)            (None, 64, 64, 3)    0                                            \n",
      "__________________________________________________________________________________________________\n",
      "input_2 (InputLayer)            (None, 64, 64, 3)    0                                            \n",
      "__________________________________________________________________________________________________\n",
      "zero_padding2d_1 (ZeroPadding2D (None, 66, 66, 3)    0           input_1[0][0]                    \n",
      "__________________________________________________________________________________________________\n",
      "zero_padding2d_3 (ZeroPadding2D (None, 66, 66, 3)    0           input_2[0][0]                    \n",
      "__________________________________________________________________________________________________\n",
      "conv2d_1 (Conv2D)               (None, 32, 32, 32)   1568        zero_padding2d_1[0][0]           \n",
      "__________________________________________________________________________________________________\n",
      "conv2d_3 (Conv2D)               (None, 32, 32, 32)   1568        zero_padding2d_3[0][0]           \n",
      "__________________________________________________________________________________________________\n",
      "elu_1 (ELU)                     (None, 32, 32, 32)   0           conv2d_1[0][0]                   \n",
      "__________________________________________________________________________________________________\n",
      "elu_3 (ELU)                     (None, 32, 32, 32)   0           conv2d_3[0][0]                   \n",
      "__________________________________________________________________________________________________\n",
      "batch_normalization_1 (BatchNor (None, 32, 32, 32)   128         elu_1[0][0]                      \n",
      "__________________________________________________________________________________________________\n",
      "batch_normalization_3 (BatchNor (None, 32, 32, 32)   128         elu_3[0][0]                      \n",
      "__________________________________________________________________________________________________\n",
      "dropout_1 (Dropout)             (None, 32, 32, 32)   0           batch_normalization_1[0][0]      \n",
      "__________________________________________________________________________________________________\n",
      "dropout_3 (Dropout)             (None, 32, 32, 32)   0           batch_normalization_3[0][0]      \n",
      "__________________________________________________________________________________________________\n",
      "zero_padding2d_2 (ZeroPadding2D (None, 34, 34, 32)   0           dropout_1[0][0]                  \n",
      "__________________________________________________________________________________________________\n",
      "zero_padding2d_4 (ZeroPadding2D (None, 34, 34, 32)   0           dropout_3[0][0]                  \n",
      "__________________________________________________________________________________________________\n",
      "conv2d_2 (Conv2D)               (None, 16, 16, 64)   32832       zero_padding2d_2[0][0]           \n",
      "__________________________________________________________________________________________________\n",
      "conv2d_4 (Conv2D)               (None, 16, 16, 64)   32832       zero_padding2d_4[0][0]           \n",
      "__________________________________________________________________________________________________\n",
      "elu_2 (ELU)                     (None, 16, 16, 64)   0           conv2d_2[0][0]                   \n",
      "__________________________________________________________________________________________________\n",
      "elu_4 (ELU)                     (None, 16, 16, 64)   0           conv2d_4[0][0]                   \n",
      "__________________________________________________________________________________________________\n",
      "batch_normalization_2 (BatchNor (None, 16, 16, 64)   256         elu_2[0][0]                      \n",
      "__________________________________________________________________________________________________\n",
      "batch_normalization_4 (BatchNor (None, 16, 16, 64)   256         elu_4[0][0]                      \n",
      "__________________________________________________________________________________________________\n",
      "dropout_2 (Dropout)             (None, 16, 16, 64)   0           batch_normalization_2[0][0]      \n",
      "__________________________________________________________________________________________________\n",
      "dropout_4 (Dropout)             (None, 16, 16, 64)   0           batch_normalization_4[0][0]      \n",
      "__________________________________________________________________________________________________\n",
      "concatenate_1 (Concatenate)     (None, 16, 16, 128)  0           dropout_2[0][0]                  \n",
      "                                                                 dropout_4[0][0]                  \n",
      "__________________________________________________________________________________________________\n",
      "conv2d_transpose_3 (Conv2DTrans (None, 32, 32, 32)   65568       concatenate_1[0][0]              \n",
      "__________________________________________________________________________________________________\n",
      "elu_7 (ELU)                     (None, 32, 32, 32)   0           conv2d_transpose_3[0][0]         \n",
      "__________________________________________________________________________________________________\n",
      "batch_normalization_7 (BatchNor (None, 32, 32, 32)   128         elu_7[0][0]                      \n",
      "__________________________________________________________________________________________________\n",
      "conv2d_transpose_4 (Conv2DTrans (None, 64, 64, 3)    1539        batch_normalization_7[0][0]      \n",
      "__________________________________________________________________________________________________\n",
      "activation_1 (Activation)       (None, 64, 64, 3)    0           conv2d_transpose_4[0][0]         \n",
      "==================================================================================================\n",
      "Total params: 136,803\n",
      "Trainable params: 136,355\n",
      "Non-trainable params: 448\n",
      "__________________________________________________________________________________________________\n"
     ]
    }
   ],
   "source": [
    "model.summary()"
   ]
  },
  {
   "cell_type": "code",
   "execution_count": 22,
   "metadata": {
    "scrolled": false
   },
   "outputs": [
    {
     "name": "stdout",
     "output_type": "stream",
     "text": [
      "Epoch 1/100\n",
      " - 20s - loss: 0.1459\n",
      "Epoch 2/100\n",
      " - 18s - loss: 0.1465\n",
      "Epoch 3/100\n",
      " - 18s - loss: 0.1454\n",
      "Epoch 4/100\n",
      " - 17s - loss: 0.1457\n",
      "Epoch 5/100\n",
      " - 19s - loss: 0.1459\n",
      "Epoch 6/100\n",
      " - 22s - loss: 0.1453\n",
      "Epoch 7/100\n",
      " - 19s - loss: 0.1453\n",
      "Epoch 8/100\n",
      " - 20s - loss: 0.1451\n",
      "Epoch 9/100\n",
      " - 20s - loss: 0.1449\n",
      "Epoch 10/100\n",
      " - 17s - loss: 0.1451\n",
      "Epoch 11/100\n",
      " - 17s - loss: 0.1450\n",
      "Epoch 12/100\n",
      " - 17s - loss: 0.1450\n",
      "Epoch 13/100\n",
      " - 16s - loss: 0.1441\n",
      "Epoch 14/100\n",
      " - 16s - loss: 0.1445\n",
      "Epoch 15/100\n",
      " - 17s - loss: 0.1449\n",
      "Epoch 16/100\n",
      " - 16s - loss: 0.1445\n",
      "Epoch 17/100\n",
      " - 17s - loss: 0.1441\n",
      "Epoch 18/100\n",
      " - 19s - loss: 0.1436\n",
      "Epoch 19/100\n",
      " - 19s - loss: 0.1442\n",
      "Epoch 20/100\n",
      " - 19s - loss: 0.1439\n",
      "Epoch 21/100\n",
      " - 20s - loss: 0.1436\n",
      "Epoch 22/100\n",
      " - 21s - loss: 0.1441\n",
      "Epoch 23/100\n",
      " - 19s - loss: 0.1440\n",
      "Epoch 24/100\n",
      " - 17s - loss: 0.1434\n",
      "Epoch 25/100\n",
      " - 20s - loss: 0.1437\n",
      "Epoch 26/100\n",
      " - 20s - loss: 0.1442\n",
      "Epoch 27/100\n",
      " - 19s - loss: 0.1435\n",
      "Epoch 28/100\n",
      " - 18s - loss: 0.1440\n",
      "Epoch 29/100\n",
      " - 18s - loss: 0.1427\n",
      "Epoch 30/100\n",
      " - 19s - loss: 0.1431\n",
      "Epoch 31/100\n",
      " - 18s - loss: 0.1428\n",
      "Epoch 32/100\n",
      " - 17s - loss: 0.1424\n",
      "Epoch 33/100\n",
      " - 19s - loss: 0.1429\n",
      "Epoch 34/100\n",
      " - 18s - loss: 0.1422\n",
      "Epoch 35/100\n",
      " - 18s - loss: 0.1436\n",
      "Epoch 36/100\n",
      " - 18s - loss: 0.1423\n",
      "Epoch 37/100\n",
      " - 17s - loss: 0.1427\n",
      "Epoch 38/100\n",
      " - 17s - loss: 0.1430\n",
      "Epoch 39/100\n",
      " - 17s - loss: 0.1422\n",
      "Epoch 40/100\n",
      " - 17s - loss: 0.1426\n",
      "Epoch 41/100\n",
      " - 17s - loss: 0.1417\n",
      "Epoch 42/100\n",
      " - 17s - loss: 0.1416\n",
      "Epoch 43/100\n",
      " - 16s - loss: 0.1413\n",
      "Epoch 44/100\n",
      " - 17s - loss: 0.1422\n",
      "Epoch 45/100\n",
      " - 17s - loss: 0.1421\n",
      "Epoch 46/100\n",
      " - 17s - loss: 0.1420\n",
      "Epoch 47/100\n",
      " - 16s - loss: 0.1414\n",
      "Epoch 48/100\n",
      " - 16s - loss: 0.1416\n",
      "Epoch 49/100\n",
      " - 16s - loss: 0.1418\n",
      "Epoch 50/100\n",
      " - 17s - loss: 0.1409\n",
      "Epoch 51/100\n",
      " - 16s - loss: 0.1415\n",
      "Epoch 52/100\n",
      " - 16s - loss: 0.1419\n",
      "Epoch 53/100\n",
      " - 18s - loss: 0.1410\n",
      "Epoch 54/100\n",
      " - 17s - loss: 0.1406\n",
      "Epoch 55/100\n",
      " - 17s - loss: 0.1409\n",
      "Epoch 56/100\n",
      " - 17s - loss: 0.1413\n",
      "Epoch 57/100\n",
      " - 17s - loss: 0.1411\n",
      "Epoch 58/100\n",
      " - 17s - loss: 0.1402\n",
      "Epoch 59/100\n",
      " - 18s - loss: 0.1406\n",
      "Epoch 60/100\n",
      " - 16s - loss: 0.1403\n",
      "Epoch 61/100\n",
      " - 16s - loss: 0.1403\n",
      "Epoch 62/100\n",
      " - 17s - loss: 0.1398\n",
      "Epoch 63/100\n",
      " - 16s - loss: 0.1400\n",
      "Epoch 64/100\n",
      " - 18s - loss: 0.1393\n",
      "Epoch 65/100\n",
      " - 17s - loss: 0.1393\n",
      "Epoch 66/100\n",
      " - 16s - loss: 0.1395\n",
      "Epoch 67/100\n",
      " - 17s - loss: 0.1393\n",
      "Epoch 68/100\n",
      " - 17s - loss: 0.1397\n",
      "Epoch 69/100\n",
      " - 17s - loss: 0.1392\n",
      "Epoch 70/100\n",
      " - 18s - loss: 0.1391\n",
      "Epoch 71/100\n",
      " - 16s - loss: 0.1389\n",
      "Epoch 72/100\n",
      " - 17s - loss: 0.1388\n",
      "Epoch 73/100\n",
      " - 17s - loss: 0.1387\n",
      "Epoch 74/100\n",
      " - 17s - loss: 0.1393\n",
      "Epoch 75/100\n",
      " - 18s - loss: 0.1386\n",
      "Epoch 76/100\n",
      " - 18s - loss: 0.1389\n",
      "Epoch 77/100\n",
      " - 18s - loss: 0.1385\n",
      "Epoch 78/100\n",
      " - 17s - loss: 0.1376\n",
      "Epoch 79/100\n",
      " - 21s - loss: 0.1385\n",
      "Epoch 80/100\n",
      " - 16s - loss: 0.1384\n",
      "Epoch 81/100\n",
      " - 16s - loss: 0.1385\n",
      "Epoch 82/100\n",
      " - 17s - loss: 0.1384\n",
      "Epoch 83/100\n",
      " - 18s - loss: 0.1384\n",
      "Epoch 84/100\n",
      " - 18s - loss: 0.1371\n",
      "Epoch 85/100\n",
      " - 17s - loss: 0.1372\n",
      "Epoch 86/100\n",
      " - 17s - loss: 0.1377\n",
      "Epoch 87/100\n",
      " - 18s - loss: 0.1375\n",
      "Epoch 88/100\n",
      " - 17s - loss: 0.1373\n",
      "Epoch 89/100\n",
      " - 17s - loss: 0.1366\n",
      "Epoch 90/100\n",
      " - 17s - loss: 0.1370\n",
      "Epoch 91/100\n",
      " - 17s - loss: 0.1370\n",
      "Epoch 92/100\n",
      " - 16s - loss: 0.1369\n",
      "Epoch 93/100\n",
      " - 17s - loss: 0.1367\n",
      "Epoch 94/100\n",
      " - 19s - loss: 0.1362\n",
      "Epoch 95/100\n",
      " - 17s - loss: 0.1359\n",
      "Epoch 96/100\n",
      " - 17s - loss: 0.1362\n",
      "Epoch 97/100\n",
      " - 16s - loss: 0.1357\n",
      "Epoch 98/100\n",
      " - 18s - loss: 0.1358\n",
      "Epoch 99/100\n",
      " - 17s - loss: 0.1363\n",
      "Epoch 100/100\n",
      " - 17s - loss: 0.1360\n"
     ]
    }
   ],
   "source": [
    "# train\n",
    "history4 = model.fit([X1_train, X2_train], \\\n",
    "                    y_train, \\\n",
    "                    batch_size = 256, \\\n",
    "                    epochs = 100, \\\n",
    "                    validation_split = 0, \\\n",
    "                    verbose = 2)"
   ]
  },
  {
   "cell_type": "code",
   "execution_count": 9,
   "metadata": {
    "collapsed": true
   },
   "outputs": [],
   "source": [
    "##### SAVE MODEL #####\n",
    "'''\n",
    "model0 : 12/11/2017\n",
    "'''\n",
    "model.save('models/noZ/model0.h5')"
   ]
  },
  {
   "cell_type": "code",
   "execution_count": null,
   "metadata": {
    "collapsed": true
   },
   "outputs": [],
   "source": [
    "#### LOAD MODEL #####\n",
    "model = load_model('model/model0.h5')"
   ]
  },
  {
   "cell_type": "code",
   "execution_count": 23,
   "metadata": {},
   "outputs": [
    {
     "data": {
      "image/png": "[encoded data removed]",
      "text/plain": [
       "<matplotlib.figure.Figure at 0x11039b6d0>"
      ]
     },
     "metadata": {},
     "output_type": "display_data"
    }
   ],
   "source": [
    "plt.plot(history.history['loss']+history2.history['loss']+history3.history['loss']+history4.history['loss'])\n",
    "plt.show()"
   ]
  },
  {
   "cell_type": "code",
   "execution_count": 21,
   "metadata": {},
   "outputs": [],
   "source": [
    "# predict test set and save\n",
    "predictions = model.predict([X1_test, X2_test])\n",
    "\n",
    "for j in range(len(predictions)):\n",
    "    save_png(predictions[j], file_name='noZ_200_epochs/'+str(j))"
   ]
  },
  {
   "cell_type": "code",
   "execution_count": 19,
   "metadata": {},
   "outputs": [],
   "source": [
    "# save test results to .npy file\n",
    "def save_results(X1_test, X2_test, predictions, file_name='supervised_noZ0.npy'):\n",
    "    ''' stack test set inputs and outputs to numpy array and save '''\n",
    "    x1 = np.rollaxis(X1_test, 3, 1)[:,np.newaxis,[2,1,0],:,:]\n",
    "    x2 = np.rollaxis(X2_test, 3, 1)[:,np.newaxis,[2,1,0],:,:]\n",
    "    y_pred = np.rollaxis(np.array(predictions), 3, 1)[:,np.newaxis,[2,1,0],:,:]\n",
    "    stacked = np.hstack([x1,x2,y_pred])\n",
    "    np.save(file_name, stacked)\n",
    "\n",
    "save_results(X1_test, X2_test, predictions, file_name='supervised_noZ0.npy')"
   ]
  },
  {
   "cell_type": "code",
   "execution_count": 24,
   "metadata": {
    "collapsed": true
   },
   "outputs": [],
   "source": [
    "def process_image(filename):\n",
    "    ''' preprocess image to get ready for keras input '''\n",
    "    npy = np.rollaxis(np.load(filename), 0, 3)\n",
    "    npy[:,:,[0,1,2]] = npy[:,:,[2,1,0]]\n",
    "    return npy.reshape(1,64,64,3)\n",
    "\n",
    "def generate_child(model, parent_idx):\n",
    "    ''' predict multiple children from one parent pair '''\n",
    "    parent1 = process_image('GAN_data/parent'+str(parent_idx)+'a.npy')\n",
    "    parent2 = process_image('GAN_data/parent'+str(parent_idx)+'b.npy')\n",
    "    prediction = model.predict([parent1, parent2])[0]\n",
    "    save_png(prediction, file_name='GAN_compare/supervised/'+str(parent_idx))"
   ]
  },
  {
   "cell_type": "code",
   "execution_count": 25,
   "metadata": {
    "collapsed": true
   },
   "outputs": [],
   "source": [
    "for i in range(4):\n",
    "    generate_child(model, i+1)"
   ]
  },
  {
   "cell_type": "code",
   "execution_count": null,
   "metadata": {
    "collapsed": true
   },
   "outputs": [],
   "source": []
  }
 ],
 "metadata": {
  "kernelspec": {
   "display_name": "Python [Root]",
   "language": "python",
   "name": "Python [Root]"
  },
  "language_info": {
   "codemirror_mode": {
    "name": "ipython",
    "version": 2
   },
   "file_extension": ".py",
   "mimetype": "text/x-python",
   "name": "python",
   "nbconvert_exporter": "python",
   "pygments_lexer": "ipython2",
   "version": "2.7.13"
  }
 },
 "nbformat": 4,
 "nbformat_minor": 2
}
